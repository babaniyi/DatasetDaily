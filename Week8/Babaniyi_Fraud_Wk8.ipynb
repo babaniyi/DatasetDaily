{
 "cells": [
  {
   "cell_type": "markdown",
   "metadata": {},
   "source": [
    "### Author: Babaniyi Olaniyi\n",
    "\n",
    "##### This study is outlined below:\n",
    "1. Exploratory Data Analysis\n",
    "2. Compare the perfomance of different models for predicting credit fraud\n",
    "3. Summary"
   ]
  },
  {
   "cell_type": "code",
   "execution_count": 1,
   "metadata": {},
   "outputs": [
    {
     "name": "stdout",
     "output_type": "stream",
     "text": [
      "<class 'pandas.core.frame.DataFrame'>\n",
      "RangeIndex: 6362620 entries, 0 to 6362619\n",
      "Data columns (total 11 columns):\n",
      " #   Column          Dtype  \n",
      "---  ------          -----  \n",
      " 0   step            int64  \n",
      " 1   type            object \n",
      " 2   amount          float64\n",
      " 3   nameOrig        object \n",
      " 4   oldbalanceOrg   float64\n",
      " 5   newbalanceOrig  float64\n",
      " 6   nameDest        object \n",
      " 7   oldbalanceDest  float64\n",
      " 8   newbalanceDest  float64\n",
      " 9   isFraud         int64  \n",
      " 10  isFlaggedFraud  int64  \n",
      "dtypes: float64(5), int64(3), object(3)\n",
      "memory usage: 534.0+ MB\n"
     ]
    }
   ],
   "source": [
    "#______________________________Importing required libraries_________________\n",
    "import pandas as pd\n",
    "import numpy as np \n",
    "import matplotlib.pyplot as plt\n",
    "import seaborn as sns \n",
    "import os \n",
    "from datetime import datetime\n",
    "\n",
    "#_______________________________Importing Dataset___________________________\n",
    "df = pd.read_csv('credit.csv')\n",
    "\n",
    "#_______________________________Looking at data types of the dataset___________________________\n",
    "df.info()"
   ]
  },
  {
   "cell_type": "markdown",
   "metadata": {},
   "source": [
    "# 1. EXPLORATORY DATA ANALYSIS"
   ]
  },
  {
   "cell_type": "markdown",
   "metadata": {},
   "source": [
    "#### 1. How many fraudulent and non-fraudulent transactions do we have?\n",
    "There are 8213 fraudulent transactions accounting for 0.12% of total transactions. This tells us we have a highly imbalanced dataset and we should take that into account when creating a predictive model."
   ]
  },
  {
   "cell_type": "code",
   "execution_count": 2,
   "metadata": {},
   "outputs": [
    {
     "name": "stdout",
     "output_type": "stream",
     "text": [
      "Number of fraudulent and non-fraudulent transactions\n"
     ]
    },
    {
     "data": {
      "text/plain": [
       "0    6354407\n",
       "1       8213\n",
       "Name: isFraud, dtype: int64"
      ]
     },
     "execution_count": 2,
     "metadata": {},
     "output_type": "execute_result"
    }
   ],
   "source": [
    "#_______________________________Number of fraudulent and non-fraudulent transactions___________________________\n",
    "print(\"Number of fraudulent and non-fraudulent transactions\")\n",
    "df['isFraud'].value_counts()"
   ]
  },
  {
   "cell_type": "code",
   "execution_count": 3,
   "metadata": {},
   "outputs": [
    {
     "name": "stdout",
     "output_type": "stream",
     "text": [
      "Percentages of fraudulent and non-fraudulent transactions\n"
     ]
    },
    {
     "data": {
      "text/plain": [
       "0    0.998709\n",
       "1    0.001291\n",
       "Name: isFraud, dtype: float64"
      ]
     },
     "execution_count": 3,
     "metadata": {},
     "output_type": "execute_result"
    }
   ],
   "source": [
    "#_______________________________Number of fraudulent and non-fraudulent transactions___________________________\n",
    "#df[['type', 'isFraud', 'isFlaggedFraud']] = df[['type', 'isFraud', 'isFlaggedFraud']].astype('category')\n",
    "                                               \n",
    "print(\"Percentages of fraudulent and non-fraudulent transactions\")\n",
    "df['isFraud'].value_counts() / len(df['isFraud'])"
   ]
  },
  {
   "cell_type": "markdown",
   "metadata": {},
   "source": [
    "#### 2. How many transactionas are flagged fraudulent?\n",
    "Only 16 transactions are flagged as being fraudulent! wow! we have a great work to do!"
   ]
  },
  {
   "cell_type": "code",
   "execution_count": 4,
   "metadata": {},
   "outputs": [
    {
     "name": "stdout",
     "output_type": "stream",
     "text": [
      "Number of transactions flagged as fraudulent\n"
     ]
    },
    {
     "data": {
      "text/plain": [
       "0    6362604\n",
       "1         16\n",
       "Name: isFlaggedFraud, dtype: int64"
      ]
     },
     "execution_count": 4,
     "metadata": {},
     "output_type": "execute_result"
    }
   ],
   "source": [
    "print(\"Number of transactions flagged as fraudulent\")\n",
    "df['isFlaggedFraud'].value_counts()"
   ]
  },
  {
   "cell_type": "markdown",
   "metadata": {},
   "source": [
    "#### 3. How many fraudulent transactions are correctly/incorrectly flagged as fraudulent?\n",
    "- There are 8213 fraudulent transactions\n",
    "- Only 16 were  correctly flagged as being fraudulent\n",
    "- 8197 were incorrectly flagged as non-fraudulent"
   ]
  },
  {
   "cell_type": "code",
   "execution_count": 5,
   "metadata": {},
   "outputs": [
    {
     "data": {
      "text/html": [
       "<div>\n",
       "<style scoped>\n",
       "    .dataframe tbody tr th:only-of-type {\n",
       "        vertical-align: middle;\n",
       "    }\n",
       "\n",
       "    .dataframe tbody tr th {\n",
       "        vertical-align: top;\n",
       "    }\n",
       "\n",
       "    .dataframe thead th {\n",
       "        text-align: right;\n",
       "    }\n",
       "</style>\n",
       "<table border=\"1\" class=\"dataframe\">\n",
       "  <thead>\n",
       "    <tr style=\"text-align: right;\">\n",
       "      <th>isFlaggedFraud</th>\n",
       "      <th>0</th>\n",
       "      <th>1</th>\n",
       "      <th>All</th>\n",
       "    </tr>\n",
       "    <tr>\n",
       "      <th>isFraud</th>\n",
       "      <th></th>\n",
       "      <th></th>\n",
       "      <th></th>\n",
       "    </tr>\n",
       "  </thead>\n",
       "  <tbody>\n",
       "    <tr>\n",
       "      <th>0</th>\n",
       "      <td>6354407</td>\n",
       "      <td>0</td>\n",
       "      <td>6354407</td>\n",
       "    </tr>\n",
       "    <tr>\n",
       "      <th>1</th>\n",
       "      <td>8197</td>\n",
       "      <td>16</td>\n",
       "      <td>8213</td>\n",
       "    </tr>\n",
       "    <tr>\n",
       "      <th>All</th>\n",
       "      <td>6362604</td>\n",
       "      <td>16</td>\n",
       "      <td>6362620</td>\n",
       "    </tr>\n",
       "  </tbody>\n",
       "</table>\n",
       "</div>"
      ],
      "text/plain": [
       "isFlaggedFraud        0   1      All\n",
       "isFraud                             \n",
       "0               6354407   0  6354407\n",
       "1                  8197  16     8213\n",
       "All             6362604  16  6362620"
      ]
     },
     "execution_count": 5,
     "metadata": {},
     "output_type": "execute_result"
    }
   ],
   "source": [
    "pd.crosstab(df.isFraud, df.isFlaggedFraud , margins = True)"
   ]
  },
  {
   "cell_type": "markdown",
   "metadata": {},
   "source": [
    "#### 4. Feature Engineering\n",
    "- Create a new feauture called **diff_orig** which is the difference between the old balance of the user and the new balance after a transaction.\n",
    "\n",
    "- Create a new feauture called **diff_dest** which is the difference between the old balance of the recipient and the new balance of the recipient after a transaction.\n",
    "\n",
    "- diff_orig_dest\n",
    "- diff_new_dest"
   ]
  },
  {
   "cell_type": "code",
   "execution_count": 6,
   "metadata": {},
   "outputs": [
    {
     "data": {
      "text/html": [
       "<div>\n",
       "<style scoped>\n",
       "    .dataframe tbody tr th:only-of-type {\n",
       "        vertical-align: middle;\n",
       "    }\n",
       "\n",
       "    .dataframe tbody tr th {\n",
       "        vertical-align: top;\n",
       "    }\n",
       "\n",
       "    .dataframe thead th {\n",
       "        text-align: right;\n",
       "    }\n",
       "</style>\n",
       "<table border=\"1\" class=\"dataframe\">\n",
       "  <thead>\n",
       "    <tr style=\"text-align: right;\">\n",
       "      <th></th>\n",
       "      <th>diff_orig</th>\n",
       "      <th>diff_dest</th>\n",
       "      <th>diff_orig_dest</th>\n",
       "      <th>diff_new_dest</th>\n",
       "    </tr>\n",
       "  </thead>\n",
       "  <tbody>\n",
       "    <tr>\n",
       "      <th>count</th>\n",
       "      <td>6.362620e+06</td>\n",
       "      <td>6.362620e+06</td>\n",
       "      <td>6.362620e+06</td>\n",
       "      <td>6.362620e+06</td>\n",
       "    </tr>\n",
       "    <tr>\n",
       "      <th>mean</th>\n",
       "      <td>5.306600e+04</td>\n",
       "      <td>1.858962e+05</td>\n",
       "      <td>1.563497e+06</td>\n",
       "      <td>1.735203e+06</td>\n",
       "    </tr>\n",
       "    <tr>\n",
       "      <th>std</th>\n",
       "      <td>1.383437e+05</td>\n",
       "      <td>8.011003e+05</td>\n",
       "      <td>4.027698e+06</td>\n",
       "      <td>4.275070e+06</td>\n",
       "    </tr>\n",
       "    <tr>\n",
       "      <th>min</th>\n",
       "      <td>0.000000e+00</td>\n",
       "      <td>0.000000e+00</td>\n",
       "      <td>0.000000e+00</td>\n",
       "      <td>0.000000e+00</td>\n",
       "    </tr>\n",
       "    <tr>\n",
       "      <th>25%</th>\n",
       "      <td>0.000000e+00</td>\n",
       "      <td>0.000000e+00</td>\n",
       "      <td>2.016600e+04</td>\n",
       "      <td>3.048017e+04</td>\n",
       "    </tr>\n",
       "    <tr>\n",
       "      <th>50%</th>\n",
       "      <td>7.273940e+03</td>\n",
       "      <td>6.270585e+04</td>\n",
       "      <td>2.145337e+05</td>\n",
       "      <td>3.411073e+05</td>\n",
       "    </tr>\n",
       "    <tr>\n",
       "      <th>75%</th>\n",
       "      <td>5.171300e+04</td>\n",
       "      <td>2.046755e+05</td>\n",
       "      <td>1.311500e+06</td>\n",
       "      <td>1.583891e+06</td>\n",
       "    </tr>\n",
       "    <tr>\n",
       "      <th>max</th>\n",
       "      <td>1.000000e+07</td>\n",
       "      <td>1.056878e+08</td>\n",
       "      <td>3.560159e+08</td>\n",
       "      <td>3.561793e+08</td>\n",
       "    </tr>\n",
       "  </tbody>\n",
       "</table>\n",
       "</div>"
      ],
      "text/plain": [
       "          diff_orig     diff_dest  diff_orig_dest  diff_new_dest\n",
       "count  6.362620e+06  6.362620e+06    6.362620e+06   6.362620e+06\n",
       "mean   5.306600e+04  1.858962e+05    1.563497e+06   1.735203e+06\n",
       "std    1.383437e+05  8.011003e+05    4.027698e+06   4.275070e+06\n",
       "min    0.000000e+00  0.000000e+00    0.000000e+00   0.000000e+00\n",
       "25%    0.000000e+00  0.000000e+00    2.016600e+04   3.048017e+04\n",
       "50%    7.273940e+03  6.270585e+04    2.145337e+05   3.411073e+05\n",
       "75%    5.171300e+04  2.046755e+05    1.311500e+06   1.583891e+06\n",
       "max    1.000000e+07  1.056878e+08    3.560159e+08   3.561793e+08"
      ]
     },
     "execution_count": 6,
     "metadata": {},
     "output_type": "execute_result"
    }
   ],
   "source": [
    "#________Feature Engineering__________\n",
    "df['diff_orig'] = np.abs(df['oldbalanceOrg'] - df['newbalanceOrig'])\n",
    "df['diff_dest'] = np.abs(df['oldbalanceDest'] - df['newbalanceDest'])\n",
    "df['diff_orig_dest'] = np.abs(df['oldbalanceOrg'] - df['oldbalanceDest'])\n",
    "df['diff_new_dest'] = np.abs(df['newbalanceOrig'] - df['newbalanceDest'])\n",
    "\n",
    "df[['diff_orig', 'diff_dest', 'diff_orig_dest','diff_new_dest' ]].describe()"
   ]
  },
  {
   "cell_type": "markdown",
   "metadata": {},
   "source": [
    "#### 5. Visualization of the type of transaction"
   ]
  },
  {
   "cell_type": "code",
   "execution_count": 7,
   "metadata": {},
   "outputs": [
    {
     "data": {
      "text/plain": [
       "<matplotlib.axes._subplots.AxesSubplot at 0x1a17c90350>"
      ]
     },
     "execution_count": 7,
     "metadata": {},
     "output_type": "execute_result"
    },
    {
     "data": {
      "image/png": "[encoded data removed]",
      "text/plain": [
       "<Figure size 432x288 with 1 Axes>"
      ]
     },
     "metadata": {
      "needs_background": "light"
     },
     "output_type": "display_data"
    }
   ],
   "source": [
    "df['type'] = df['type'].astype('category')\n",
    "df['type'].hist()"
   ]
  },
  {
   "cell_type": "markdown",
   "metadata": {},
   "source": [
    "#### 6. Correlation Matrix\n",
    "The correlation coefficient ranges from -1 to 1. When it is close to 1, it means that there is a strong positive correlation, when it's close to -2, it means there is a strong negative correlation, when close to 0 there's no linear correlation.\n",
    "\n",
    "- Note that the correlation coefficient only measures linear correlations (\"if x goes up, then y generally goes u/down\").\n",
    "- It may completely miss out nonlinear relationships (e.g. \"if x close to 0, then y generally goes up\").\n",
    "- I will drop variables such as step, oldbalanceOrg,  newbalanceOrig, oldBalanceDest, newbalanceDest as they don't have any relationship with fraud and the newly created variables are better."
   ]
  },
  {
   "cell_type": "code",
   "execution_count": 8,
   "metadata": {},
   "outputs": [
    {
     "data": {
      "text/html": [
       "<div>\n",
       "<style scoped>\n",
       "    .dataframe tbody tr th:only-of-type {\n",
       "        vertical-align: middle;\n",
       "    }\n",
       "\n",
       "    .dataframe tbody tr th {\n",
       "        vertical-align: top;\n",
       "    }\n",
       "\n",
       "    .dataframe thead th {\n",
       "        text-align: right;\n",
       "    }\n",
       "</style>\n",
       "<table border=\"1\" class=\"dataframe\">\n",
       "  <thead>\n",
       "    <tr style=\"text-align: right;\">\n",
       "      <th></th>\n",
       "      <th>step</th>\n",
       "      <th>amount</th>\n",
       "      <th>oldbalanceOrg</th>\n",
       "      <th>newbalanceOrig</th>\n",
       "      <th>oldbalanceDest</th>\n",
       "      <th>newbalanceDest</th>\n",
       "      <th>isFraud</th>\n",
       "      <th>isFlaggedFraud</th>\n",
       "      <th>diff_orig</th>\n",
       "      <th>diff_dest</th>\n",
       "      <th>diff_orig_dest</th>\n",
       "      <th>diff_new_dest</th>\n",
       "    </tr>\n",
       "  </thead>\n",
       "  <tbody>\n",
       "    <tr>\n",
       "      <th>step</th>\n",
       "      <td>1.000</td>\n",
       "      <td>0.022</td>\n",
       "      <td>-0.010</td>\n",
       "      <td>-0.010</td>\n",
       "      <td>0.028</td>\n",
       "      <td>0.026</td>\n",
       "      <td>0.032</td>\n",
       "      <td>0.003</td>\n",
       "      <td>0.012</td>\n",
       "      <td>0.000</td>\n",
       "      <td>0.015</td>\n",
       "      <td>0.015</td>\n",
       "    </tr>\n",
       "    <tr>\n",
       "      <th>amount</th>\n",
       "      <td>0.022</td>\n",
       "      <td>1.000</td>\n",
       "      <td>-0.003</td>\n",
       "      <td>-0.008</td>\n",
       "      <td>0.294</td>\n",
       "      <td>0.459</td>\n",
       "      <td>0.077</td>\n",
       "      <td>0.012</td>\n",
       "      <td>0.183</td>\n",
       "      <td>0.868</td>\n",
       "      <td>0.244</td>\n",
       "      <td>0.389</td>\n",
       "    </tr>\n",
       "    <tr>\n",
       "      <th>oldbalanceOrg</th>\n",
       "      <td>-0.010</td>\n",
       "      <td>-0.003</td>\n",
       "      <td>1.000</td>\n",
       "      <td>0.999</td>\n",
       "      <td>0.066</td>\n",
       "      <td>0.042</td>\n",
       "      <td>0.010</td>\n",
       "      <td>0.004</td>\n",
       "      <td>0.245</td>\n",
       "      <td>-0.002</td>\n",
       "      <td>0.578</td>\n",
       "      <td>0.550</td>\n",
       "    </tr>\n",
       "    <tr>\n",
       "      <th>newbalanceOrig</th>\n",
       "      <td>-0.010</td>\n",
       "      <td>-0.008</td>\n",
       "      <td>0.999</td>\n",
       "      <td>1.000</td>\n",
       "      <td>0.068</td>\n",
       "      <td>0.042</td>\n",
       "      <td>-0.008</td>\n",
       "      <td>0.004</td>\n",
       "      <td>0.233</td>\n",
       "      <td>-0.005</td>\n",
       "      <td>0.577</td>\n",
       "      <td>0.548</td>\n",
       "    </tr>\n",
       "    <tr>\n",
       "      <th>oldbalanceDest</th>\n",
       "      <td>0.028</td>\n",
       "      <td>0.294</td>\n",
       "      <td>0.066</td>\n",
       "      <td>0.068</td>\n",
       "      <td>1.000</td>\n",
       "      <td>0.977</td>\n",
       "      <td>-0.006</td>\n",
       "      <td>-0.001</td>\n",
       "      <td>0.050</td>\n",
       "      <td>0.259</td>\n",
       "      <td>0.793</td>\n",
       "      <td>0.790</td>\n",
       "    </tr>\n",
       "    <tr>\n",
       "      <th>newbalanceDest</th>\n",
       "      <td>0.026</td>\n",
       "      <td>0.459</td>\n",
       "      <td>0.042</td>\n",
       "      <td>0.042</td>\n",
       "      <td>0.977</td>\n",
       "      <td>1.000</td>\n",
       "      <td>0.001</td>\n",
       "      <td>-0.001</td>\n",
       "      <td>0.040</td>\n",
       "      <td>0.456</td>\n",
       "      <td>0.769</td>\n",
       "      <td>0.805</td>\n",
       "    </tr>\n",
       "    <tr>\n",
       "      <th>isFraud</th>\n",
       "      <td>0.032</td>\n",
       "      <td>0.077</td>\n",
       "      <td>0.010</td>\n",
       "      <td>-0.008</td>\n",
       "      <td>-0.006</td>\n",
       "      <td>0.001</td>\n",
       "      <td>1.000</td>\n",
       "      <td>0.044</td>\n",
       "      <td>0.365</td>\n",
       "      <td>0.025</td>\n",
       "      <td>0.003</td>\n",
       "      <td>-0.002</td>\n",
       "    </tr>\n",
       "    <tr>\n",
       "      <th>isFlaggedFraud</th>\n",
       "      <td>0.003</td>\n",
       "      <td>0.012</td>\n",
       "      <td>0.004</td>\n",
       "      <td>0.004</td>\n",
       "      <td>-0.001</td>\n",
       "      <td>-0.001</td>\n",
       "      <td>0.044</td>\n",
       "      <td>1.000</td>\n",
       "      <td>-0.001</td>\n",
       "      <td>-0.000</td>\n",
       "      <td>0.002</td>\n",
       "      <td>0.002</td>\n",
       "    </tr>\n",
       "    <tr>\n",
       "      <th>diff_orig</th>\n",
       "      <td>0.012</td>\n",
       "      <td>0.183</td>\n",
       "      <td>0.245</td>\n",
       "      <td>0.233</td>\n",
       "      <td>0.050</td>\n",
       "      <td>0.040</td>\n",
       "      <td>0.365</td>\n",
       "      <td>-0.001</td>\n",
       "      <td>1.000</td>\n",
       "      <td>0.078</td>\n",
       "      <td>0.130</td>\n",
       "      <td>0.120</td>\n",
       "    </tr>\n",
       "    <tr>\n",
       "      <th>diff_dest</th>\n",
       "      <td>0.000</td>\n",
       "      <td>0.868</td>\n",
       "      <td>-0.002</td>\n",
       "      <td>-0.005</td>\n",
       "      <td>0.259</td>\n",
       "      <td>0.456</td>\n",
       "      <td>0.025</td>\n",
       "      <td>-0.000</td>\n",
       "      <td>0.078</td>\n",
       "      <td>1.000</td>\n",
       "      <td>0.213</td>\n",
       "      <td>0.385</td>\n",
       "    </tr>\n",
       "    <tr>\n",
       "      <th>diff_orig_dest</th>\n",
       "      <td>0.015</td>\n",
       "      <td>0.244</td>\n",
       "      <td>0.578</td>\n",
       "      <td>0.577</td>\n",
       "      <td>0.793</td>\n",
       "      <td>0.769</td>\n",
       "      <td>0.003</td>\n",
       "      <td>0.002</td>\n",
       "      <td>0.130</td>\n",
       "      <td>0.213</td>\n",
       "      <td>1.000</td>\n",
       "      <td>0.982</td>\n",
       "    </tr>\n",
       "    <tr>\n",
       "      <th>diff_new_dest</th>\n",
       "      <td>0.015</td>\n",
       "      <td>0.389</td>\n",
       "      <td>0.550</td>\n",
       "      <td>0.548</td>\n",
       "      <td>0.790</td>\n",
       "      <td>0.805</td>\n",
       "      <td>-0.002</td>\n",
       "      <td>0.002</td>\n",
       "      <td>0.120</td>\n",
       "      <td>0.385</td>\n",
       "      <td>0.982</td>\n",
       "      <td>1.000</td>\n",
       "    </tr>\n",
       "  </tbody>\n",
       "</table>\n",
       "</div>"
      ],
      "text/plain": [
       "                 step  amount  oldbalanceOrg  newbalanceOrig  oldbalanceDest  \\\n",
       "step            1.000   0.022         -0.010          -0.010           0.028   \n",
       "amount          0.022   1.000         -0.003          -0.008           0.294   \n",
       "oldbalanceOrg  -0.010  -0.003          1.000           0.999           0.066   \n",
       "newbalanceOrig -0.010  -0.008          0.999           1.000           0.068   \n",
       "oldbalanceDest  0.028   0.294          0.066           0.068           1.000   \n",
       "newbalanceDest  0.026   0.459          0.042           0.042           0.977   \n",
       "isFraud         0.032   0.077          0.010          -0.008          -0.006   \n",
       "isFlaggedFraud  0.003   0.012          0.004           0.004          -0.001   \n",
       "diff_orig       0.012   0.183          0.245           0.233           0.050   \n",
       "diff_dest       0.000   0.868         -0.002          -0.005           0.259   \n",
       "diff_orig_dest  0.015   0.244          0.578           0.577           0.793   \n",
       "diff_new_dest   0.015   0.389          0.550           0.548           0.790   \n",
       "\n",
       "                newbalanceDest  isFraud  isFlaggedFraud  diff_orig  diff_dest  \\\n",
       "step                     0.026    0.032           0.003      0.012      0.000   \n",
       "amount                   0.459    0.077           0.012      0.183      0.868   \n",
       "oldbalanceOrg            0.042    0.010           0.004      0.245     -0.002   \n",
       "newbalanceOrig           0.042   -0.008           0.004      0.233     -0.005   \n",
       "oldbalanceDest           0.977   -0.006          -0.001      0.050      0.259   \n",
       "newbalanceDest           1.000    0.001          -0.001      0.040      0.456   \n",
       "isFraud                  0.001    1.000           0.044      0.365      0.025   \n",
       "isFlaggedFraud          -0.001    0.044           1.000     -0.001     -0.000   \n",
       "diff_orig                0.040    0.365          -0.001      1.000      0.078   \n",
       "diff_dest                0.456    0.025          -0.000      0.078      1.000   \n",
       "diff_orig_dest           0.769    0.003           0.002      0.130      0.213   \n",
       "diff_new_dest            0.805   -0.002           0.002      0.120      0.385   \n",
       "\n",
       "                diff_orig_dest  diff_new_dest  \n",
       "step                     0.015          0.015  \n",
       "amount                   0.244          0.389  \n",
       "oldbalanceOrg            0.578          0.550  \n",
       "newbalanceOrig           0.577          0.548  \n",
       "oldbalanceDest           0.793          0.790  \n",
       "newbalanceDest           0.769          0.805  \n",
       "isFraud                  0.003         -0.002  \n",
       "isFlaggedFraud           0.002          0.002  \n",
       "diff_orig                0.130          0.120  \n",
       "diff_dest                0.213          0.385  \n",
       "diff_orig_dest           1.000          0.982  \n",
       "diff_new_dest            0.982          1.000  "
      ]
     },
     "execution_count": 8,
     "metadata": {},
     "output_type": "execute_result"
    }
   ],
   "source": [
    "corr_matrix = np.round(df.corr(), 3)\n",
    "corr_matrix"
   ]
  },
  {
   "cell_type": "code",
   "execution_count": 9,
   "metadata": {},
   "outputs": [],
   "source": [
    "df = df.drop(['step','nameOrig', 'nameDest','oldbalanceOrg', 'newbalanceOrig', 'oldbalanceDest', 'newbalanceDest'], axis = 1)"
   ]
  },
  {
   "cell_type": "markdown",
   "metadata": {},
   "source": [
    "# 2. MODELLING"
   ]
  },
  {
   "cell_type": "markdown",
   "metadata": {},
   "source": [
    "#### Splitting data into train and test sets using stratified sampling"
   ]
  },
  {
   "cell_type": "code",
   "execution_count": 10,
   "metadata": {},
   "outputs": [],
   "source": [
    "#___________ Split Data_________\n",
    "from sklearn.model_selection import StratifiedShuffleSplit\n",
    "\n",
    "split = StratifiedShuffleSplit(n_splits=1, test_size = 0.2, random_state=42)\n",
    "\n",
    "for train_index, test_index in split.split(df, df['isFraud']):\n",
    "    strat_train_set = df.loc[train_index]\n",
    "    strat_test_set = df.loc[test_index]"
   ]
  },
  {
   "cell_type": "code",
   "execution_count": 11,
   "metadata": {},
   "outputs": [
    {
     "name": "stdout",
     "output_type": "stream",
     "text": [
      "Checking the proportion of Fraud to know if it corresponds to the actual data\n"
     ]
    },
    {
     "data": {
      "text/plain": [
       "0    0.998709\n",
       "1    0.001291\n",
       "Name: isFraud, dtype: float64"
      ]
     },
     "execution_count": 11,
     "metadata": {},
     "output_type": "execute_result"
    }
   ],
   "source": [
    "print(\"Checking the proportion of Fraud to know if it corresponds to the actual data\")   \n",
    "strat_test_set['isFraud'].value_counts()/len(strat_test_set)"
   ]
  },
  {
   "cell_type": "markdown",
   "metadata": {},
   "source": [
    "#### Scaling"
   ]
  },
  {
   "cell_type": "code",
   "execution_count": 12,
   "metadata": {},
   "outputs": [],
   "source": [
    "del train_index, test_index, df\n",
    "\n",
    "#___________Scaling___________\n",
    "\n",
    "\"\"\"_________Train Data_________\"\"\"\n",
    "df_train = strat_train_set.copy()\n",
    "df_train = pd.get_dummies(df_train)\n",
    "\n",
    "df_train_labels = strat_train_set[['isFraud']]\n",
    "df_train = df_train.drop('isFraud', axis = 1)\n",
    "\n",
    "from sklearn.preprocessing import MinMaxScaler\n",
    "\n",
    "df_train[['amount', 'diff_orig', 'diff_dest']] = MinMaxScaler().fit_transform(df_train[[ 'amount', 'diff_orig', 'diff_dest']])\n",
    "\n"
   ]
  },
  {
   "cell_type": "code",
   "execution_count": 13,
   "metadata": {},
   "outputs": [],
   "source": [
    "\"\"\"___________Test Data____________\"\"\"\n",
    "df_test = strat_test_set.copy()\n",
    "df_test = pd.get_dummies(df_test)\n",
    "\n",
    "df_test_labels = strat_test_set[['isFraud']]\n",
    "df_test = df_test.drop('isFraud', axis = 1)\n",
    "\n",
    "df_test[['amount', 'diff_orig', 'diff_dest', 'diff_orig_dest', 'diff_new_dest']] = MinMaxScaler().fit_transform(df_test[['amount', 'diff_orig', 'diff_dest', 'diff_orig_dest', 'diff_new_dest']])\n"
   ]
  },
  {
   "cell_type": "markdown",
   "metadata": {},
   "source": [
    "### ML Techniques for Handling Highly Imbalanced Dataset\n",
    "- **Oversampling:** Oversample the minority class. The simplest approach involves duplicating examples in the minority class, although these examples don’t add any new information to the model.\n",
    "- **Undersampling:** Undersampling the majority class.\n",
    "- **SMOTE:** SMOTE works by selecting examples that are close in the feature space, drawing a line between the examples in the feature space and drawing a new sample at a point along that line.\n",
    "- **Ensemble Methods:** Random Forest, XGBoost, etc\n",
    "- **Combined Class Methods:** SMOTE  + Ensemble methods\n",
    "\n",
    "**References**\n",
    "\n",
    "https://machinelearningmastery.com/smote-oversampling-for-imbalanced-classification/\n",
    "https://machinelearningmastery.com/what-is-imbalanced-classification/\n",
    "https://machinelearningmastery.com/tactics-to-combat-imbalanced-classes-in-your-machine-learning-dataset/\n"
   ]
  },
  {
   "cell_type": "markdown",
   "metadata": {},
   "source": [
    "#### 1. EXTREME GRADIENT BOOSTING \n",
    "1. If you care only about the overall performance metric (AUC) of your prediction:\n",
    "    - Balance the positive and negative weights via scale_pos_weight\n",
    "    - Use AUC for evaluation\n",
    "\n",
    "scale_pos_weight = count(non-fraudulent transactions)/count(fraudulent transactions)\n",
    "\n",
    "In practice, that works pretty well, but since the dataset is extremely unbalanced I used something more conservative like:\n",
    "\n",
    "scale_pos_weight = sqrt(count(non-fraudulent transactions)/count(fraudulent transactions)) \n",
    "\n",
    "2. If you care about predicting the right probability:\n",
    "    - In such a case, you cannot re-balance the dataset\n",
    "    - Set parameter max_delta_step to a finite number (say 1) to help convergence\n",
    "\n",
    "\n",
    "**Control Overfitting**\n",
    "\n",
    "When you observe high training accuracy, but low test accuracy, it is likely that you encountered overfitting problem.\n",
    "\n",
    "There are in general two ways that you can control overfitting in XGBoost:\n",
    "\n",
    "1. The first way is to directly control model complexity.\n",
    "\n",
    "    - This includes max_depth, min_child_weight and gamma.\n",
    "\n",
    "2. The second way is to add randomness to make training robust to noise.\n",
    "\n",
    "    - This includes subsample and colsample_bytree.\n",
    "\n",
    "    - You can also reduce stepsize eta. Remember to increase num_round when you do so.\n",
    "    \n",
    "https://xgboost.readthedocs.io/en/latest/tutorials/param_tuning.html"
   ]
  },
  {
   "cell_type": "code",
   "execution_count": 14,
   "metadata": {},
   "outputs": [],
   "source": [
    "\n",
    "#____________ Hyperparameter Tuning___________\n",
    "#param = {\"learning_rate\"    : [0.05, 0.10, 0.15, 0.20, 0.25, 0.30 ] ,\n",
    "# \"max_depth\"        : [ 3, 4, 5, 6, 8, 10, 12, 15],\n",
    "# \"min_child_weight\" : [ 1, 3, 5, 7 ],\n",
    "# \"gamma\"            : [ 0.0, 0.1, 0.2 , 0.3, 0.4 ],\n",
    "# \"colsample_bytree\" : [ 0.3, 0.4, 0.5 , 0.7 ] }\n",
    "\n",
    "\n",
    "# To control overfitting, the parameters above should be used but i can't because of the large training time and \n",
    "# memory of my computer.\n",
    "\n"
   ]
  },
  {
   "cell_type": "code",
   "execution_count": 15,
   "metadata": {},
   "outputs": [],
   "source": [
    "import xgboost as xgb\n",
    "from sklearn.model_selection import GridSearchCV\n",
    "\n",
    "param = {\n",
    " \"max_depth\"        : [ 3, 4],\n",
    " \"min_child_weight\" : [ 1, 3],\n",
    " \"gamma\"            : [ 0.0, 0.1],\n",
    "    }"
   ]
  },
  {
   "cell_type": "code",
   "execution_count": 16,
   "metadata": {},
   "outputs": [],
   "source": [
    "weight = np.round(np.sqrt((df_train_labels['isFraud']==0).sum() / (df_train_labels['isFraud']==1).sum()),0)"
   ]
  },
  {
   "cell_type": "code",
   "execution_count": 17,
   "metadata": {},
   "outputs": [],
   "source": [
    "xcgrid = GridSearchCV(xgb.XGBClassifier(seed = 42, scale_pos_weight = weight, tree_method='hist', max_delta_step=1), \n",
    "                param, cv=2, \n",
    "                verbose=1, n_jobs=-1)"
   ]
  },
  {
   "cell_type": "code",
   "execution_count": 18,
   "metadata": {},
   "outputs": [
    {
     "name": "stdout",
     "output_type": "stream",
     "text": [
      "Fitting 2 folds for each of 8 candidates, totalling 16 fits\n"
     ]
    },
    {
     "name": "stderr",
     "output_type": "stream",
     "text": [
      "[Parallel(n_jobs=-1)]: Using backend LokyBackend with 4 concurrent workers.\n",
      "[Parallel(n_jobs=-1)]: Done  16 out of  16 | elapsed:  6.5min finished\n",
      "/opt/anaconda3/lib/python3.7/site-packages/sklearn/utils/validation.py:73: DataConversionWarning: A column-vector y was passed when a 1d array was expected. Please change the shape of y to (n_samples, ), for example using ravel().\n",
      "  return f(**kwargs)\n"
     ]
    },
    {
     "data": {
      "text/plain": [
       "GridSearchCV(cv=2,\n",
       "             estimator=XGBClassifier(base_score=None, booster=None,\n",
       "                                     colsample_bylevel=None,\n",
       "                                     colsample_bynode=None,\n",
       "                                     colsample_bytree=None, gamma=None,\n",
       "                                     gpu_id=None, importance_type='gain',\n",
       "                                     interaction_constraints=None,\n",
       "                                     learning_rate=None, max_delta_step=1,\n",
       "                                     max_depth=None, min_child_weight=None,\n",
       "                                     missing=nan, monotone_constraints=None,\n",
       "                                     n_estimators=100, n_jobs=None,\n",
       "                                     num_parallel_tree=None, random_state=None,\n",
       "                                     reg_alpha=None, reg_lambda=None,\n",
       "                                     scale_pos_weight=28.0, seed=42,\n",
       "                                     subsample=None, tree_method='hist',\n",
       "                                     validate_parameters=None, verbosity=None),\n",
       "             n_jobs=-1,\n",
       "             param_grid={'gamma': [0.0, 0.1], 'max_depth': [3, 4],\n",
       "                         'min_child_weight': [1, 3]},\n",
       "             verbose=1)"
      ]
     },
     "execution_count": 18,
     "metadata": {},
     "output_type": "execute_result"
    }
   ],
   "source": [
    "#________Fit the XGB to the Training Data\n",
    "\n",
    "xcgrid.fit(df_train, df_train_labels.values)\n"
   ]
  },
  {
   "cell_type": "code",
   "execution_count": 19,
   "metadata": {},
   "outputs": [],
   "source": [
    "xc_model = xcgrid.best_estimator_\n",
    "xc_pred_test = xc_model.predict(df_test)\n",
    "xc_pred_train = xc_model.predict(df_train)"
   ]
  },
  {
   "cell_type": "code",
   "execution_count": 20,
   "metadata": {},
   "outputs": [
    {
     "data": {
      "text/plain": [
       "XGBClassifier(base_score=0.5, booster='gbtree', colsample_bylevel=1,\n",
       "              colsample_bynode=1, colsample_bytree=1, gamma=0.0, gpu_id=-1,\n",
       "              importance_type='gain', interaction_constraints='',\n",
       "              learning_rate=0.300000012, max_delta_step=1, max_depth=3,\n",
       "              min_child_weight=1, missing=nan, monotone_constraints='()',\n",
       "              n_estimators=100, n_jobs=0, num_parallel_tree=1, random_state=42,\n",
       "              reg_alpha=0, reg_lambda=1, scale_pos_weight=28.0, seed=42,\n",
       "              subsample=1, tree_method='hist', validate_parameters=1,\n",
       "              verbosity=None)"
      ]
     },
     "execution_count": 20,
     "metadata": {},
     "output_type": "execute_result"
    }
   ],
   "source": [
    "xc_model"
   ]
  },
  {
   "cell_type": "code",
   "execution_count": 23,
   "metadata": {},
   "outputs": [
    {
     "name": "stdout",
     "output_type": "stream",
     "text": [
      "              precision    recall  f1-score   support\n",
      "\n",
      "           0       1.00      1.00      1.00   5083526\n",
      "           1       0.56      0.79      0.66      6570\n",
      "\n",
      "    accuracy                           1.00   5090096\n",
      "   macro avg       0.78      0.89      0.83   5090096\n",
      "weighted avg       1.00      1.00      1.00   5090096\n",
      "\n"
     ]
    }
   ],
   "source": [
    "#_____________Performance of the model on train data_______\n",
    "from sklearn.metrics import classification_report\n",
    "print(classification_report(df_train_labels, xc_pred_train))"
   ]
  },
  {
   "cell_type": "code",
   "execution_count": 24,
   "metadata": {},
   "outputs": [
    {
     "name": "stdout",
     "output_type": "stream",
     "text": [
      "              precision    recall  f1-score   support\n",
      "\n",
      "           0       1.00      0.96      0.98   1270881\n",
      "           1       0.03      0.73      0.05      1643\n",
      "\n",
      "    accuracy                           0.96   1272524\n",
      "   macro avg       0.51      0.85      0.52   1272524\n",
      "weighted avg       1.00      0.96      0.98   1272524\n",
      "\n"
     ]
    }
   ],
   "source": [
    "#_____________Performance of the model on test data_______\n",
    "from sklearn.metrics import classification_report\n",
    "print(classification_report(df_test_labels, xc_pred_test))\n"
   ]
  },
  {
   "cell_type": "code",
   "execution_count": 25,
   "metadata": {},
   "outputs": [
    {
     "name": "stdout",
     "output_type": "stream",
     "text": [
      "[[1225669   45212]\n",
      " [    437    1206]]\n"
     ]
    },
    {
     "data": {
      "image/png": "[encoded data removed]",
      "text/plain": [
       "<Figure size 432x288 with 2 Axes>"
      ]
     },
     "metadata": {
      "needs_background": "light"
     },
     "output_type": "display_data"
    }
   ],
   "source": [
    "from sklearn.metrics import plot_confusion_matrix\n",
    "\n",
    "disp = plot_confusion_matrix(xc_model, df_test, df_test_labels,\n",
    "                                 display_labels=['non-fraudulent', 'fraudulent'],\n",
    "                                 cmap=plt.cm.Blues,\n",
    "                                 )\n",
    "print(disp.confusion_matrix)\n",
    "\n",
    "plt.show()"
   ]
  },
  {
   "cell_type": "code",
   "execution_count": 26,
   "metadata": {},
   "outputs": [],
   "source": [
    "#_____________Save the model___________\n",
    "import joblib\n",
    "joblib.dump(xc_model, 'tuned_xgb.pkl')"
   ]
  },
  {
   "cell_type": "markdown",
   "metadata": {},
   "source": [
    "**Performance of the model**\n",
    "\n",
    "The performance on the test set is not good enough as we have a large number of false positives. This causes the model to misclasify 45212 non-fraudulent transactions as fraudulent. The bank will have to deal with a lot of customer complaints as customers will be agitated as their transactions will be tagged as fraudulent."
   ]
  },
  {
   "cell_type": "markdown",
   "metadata": {},
   "source": [
    "#### 2. SMOTE + RANDOM UNDERSAMPLING OF MAJORITY CLASS + XGBOOST\n",
    "\n",
    "A problem with imbalanced classification is that there are too few examples of the minority class for a model to effectively learn the decision boundary.\n",
    "\n",
    "One way to solve this problem is to oversample the examples in the minority class. This can be achieved by simply duplicating examples from the minority class in the training dataset prior to fitting a model. This can balance the class distribution but does not provide any additional information to the model.\n",
    "\n",
    "An improvement on duplicating examples from the minority class is to synthesize new examples from the minority class. This is a type of data augmentation for tabular data and can be very effective.\n",
    "\n",
    "Perhaps the most widely used approach to synthesizing new examples is called the Synthetic Minority Oversampling Technique, or SMOTE for short. This technique was described by Nitesh Chawla, et al. in their 2002 paper named for the technique titled “SMOTE: Synthetic Minority Over-sampling Technique.”\n",
    "\n",
    "SMOTE works by selecting examples that are close in the feature space, drawing a line between the examples in the feature space and drawing a new sample at a point along that line.\n",
    "\n",
    "https://machinelearningmastery.com/smote-oversampling-for-imbalanced-classification/"
   ]
  },
  {
   "cell_type": "code",
   "execution_count": 27,
   "metadata": {},
   "outputs": [],
   "source": [
    "from imblearn.over_sampling import RandomOverSampler\n",
    "from imblearn.over_sampling import SMOTE, ADASYN\n",
    "from imblearn.under_sampling import RandomUnderSampler\n",
    "from imblearn.pipeline import Pipeline\n",
    "from sklearn.model_selection import RepeatedStratifiedKFold\n",
    "from sklearn.model_selection import cross_val_score"
   ]
  },
  {
   "cell_type": "code",
   "execution_count": 28,
   "metadata": {},
   "outputs": [],
   "source": [
    "#____SMOTE + RANDOM UNDERSAMPLING OF MAJORITY CLASS\n",
    "model = xgb.XGBClassifier(seed = 42, gamma=0.0, learning_rate=0.3, max_delta_step=1, max_depth=3,\n",
    "              min_child_weight=1, scale_pos_weight=weight, tree_method='hist')\n",
    "over = SMOTE(sampling_strategy=0.1)\n",
    "under = RandomUnderSampler(sampling_strategy=0.5)\n",
    "steps = [('over', over), ('under', under), ('model', model)]\n",
    "pipeline = Pipeline(steps=steps)"
   ]
  },
  {
   "cell_type": "code",
   "execution_count": 29,
   "metadata": {},
   "outputs": [],
   "source": [
    "# evaluate pipeline\n",
    "cv = RepeatedStratifiedKFold(n_splits=5, n_repeats=2, random_state=42)\n",
    "scores = cross_val_score(pipeline, df_train, df_train_labels, scoring='roc_auc', cv=cv, n_jobs=-1)\n"
   ]
  },
  {
   "cell_type": "code",
   "execution_count": 30,
   "metadata": {},
   "outputs": [
    {
     "name": "stdout",
     "output_type": "stream",
     "text": [
      "Mean ROC AUC: 0.995\n"
     ]
    }
   ],
   "source": [
    "print('Mean ROC AUC: %.3f' % np.mean(scores))"
   ]
  },
  {
   "cell_type": "code",
   "execution_count": 31,
   "metadata": {},
   "outputs": [
    {
     "name": "stderr",
     "output_type": "stream",
     "text": [
      "/opt/anaconda3/lib/python3.7/site-packages/sklearn/utils/validation.py:73: DataConversionWarning: A column-vector y was passed when a 1d array was expected. Please change the shape of y to (n_samples, ), for example using ravel().\n",
      "  return f(**kwargs)\n"
     ]
    }
   ],
   "source": [
    "smote_random = pipeline.fit(df_train, df_train_labels)\n",
    "smote_rand_pred = smote_random.predict(df_test)\n"
   ]
  },
  {
   "cell_type": "code",
   "execution_count": 32,
   "metadata": {},
   "outputs": [
    {
     "name": "stdout",
     "output_type": "stream",
     "text": [
      "              precision    recall  f1-score   support\n",
      "\n",
      "           0       1.00      0.96      0.98   1270881\n",
      "           1       0.03      0.89      0.05      1643\n",
      "\n",
      "    accuracy                           0.96   1272524\n",
      "   macro avg       0.51      0.92      0.51   1272524\n",
      "weighted avg       1.00      0.96      0.98   1272524\n",
      "\n"
     ]
    }
   ],
   "source": [
    "print(classification_report(df_test_labels, smote_rand_pred))"
   ]
  },
  {
   "cell_type": "code",
   "execution_count": 33,
   "metadata": {},
   "outputs": [
    {
     "name": "stdout",
     "output_type": "stream",
     "text": [
      "[[1214344   56537]\n",
      " [    187    1456]]\n"
     ]
    },
    {
     "data": {
      "image/png": "[encoded data removed]",
      "text/plain": [
       "<Figure size 432x288 with 2 Axes>"
      ]
     },
     "metadata": {
      "needs_background": "light"
     },
     "output_type": "display_data"
    }
   ],
   "source": [
    "disp2 = plot_confusion_matrix(smote_random, df_test, df_test_labels,\n",
    "                                 display_labels=['non-fraudulent', 'fraudulent'],\n",
    "                                 cmap=plt.cm.Blues,\n",
    "                                 )\n",
    "print(disp2.confusion_matrix)\n",
    "\n",
    "plt.show()"
   ]
  },
  {
   "cell_type": "code",
   "execution_count": 34,
   "metadata": {},
   "outputs": [],
   "source": [
    "#___________Save the Model_______\n",
    "joblib.dump(smote_random, 'smote_random.pkl')"
   ]
  },
  {
   "cell_type": "markdown",
   "metadata": {},
   "source": [
    "**Peformance of this model**\n",
    "\n",
    "This model reduces the number of false positives (56537) compared to the previous model (45212), however it correctly classifies more fraudulent transactions (1456) than the previous model (1206)."
   ]
  },
  {
   "cell_type": "markdown",
   "metadata": {},
   "source": [
    "### 3. SMOTE oversampling with different k values for the KNN\n",
    "\n",
    "Another area to explore would be to test different values of the k-nearest neighbors selected  in the SMOTE procedure when each new synthetic example is created. The default is k=5, although larger or smaller values will influence the types of examples created, and in turn, may impact the performance of the model.\n",
    "\n",
    "For example, we could grid search a range of values of k, such as values from 1 to 7, and  evaluate the pipeline for each value.\n",
    "\n",
    "Running the example will perform SMOTE oversampling with different k values for the KNN used in the procedure, followed by random undersampling and fitting a decision tree on the resulting  training dataset.\n",
    "\n",
    "https://machinelearningmastery.com/smote-oversampling-for-imbalanced-classification/"
   ]
  },
  {
   "cell_type": "code",
   "execution_count": 35,
   "metadata": {},
   "outputs": [
    {
     "name": "stdout",
     "output_type": "stream",
     "text": [
      "> k=1, Mean ROC AUC: 0.995\n",
      "> k=2, Mean ROC AUC: 0.995\n",
      "> k=3, Mean ROC AUC: 0.995\n"
     ]
    }
   ],
   "source": [
    "k_values = [1, 2, 3]\n",
    "for k in k_values:\n",
    "\t# define pipeline\n",
    "\tmodel = xgb.XGBClassifier(seed = 42, gamma=0.0, learning_rate=0.3, max_delta_step=1, max_depth=3,\n",
    "              min_child_weight=1, scale_pos_weight=weight, tree_method='hist')\n",
    "\tover = SMOTE(sampling_strategy=0.1, k_neighbors=k)\n",
    "\tunder = RandomUnderSampler(sampling_strategy=0.5)\n",
    "\tsteps = [('over', over), ('under', under), ('model', model)]\n",
    "\tpipeline = Pipeline(steps=steps)\n",
    "\t# evaluate pipeline\n",
    "\tcv = RepeatedStratifiedKFold(n_splits=5, n_repeats=2, random_state=42)\n",
    "\tscores = cross_val_score(pipeline, df_train, df_train_labels, scoring='roc_auc', cv=cv, n_jobs=-1)\n",
    "\tscore = np.mean(scores)\n",
    "\tprint('> k=%d, Mean ROC AUC: %.3f' % (k, score))"
   ]
  },
  {
   "cell_type": "markdown",
   "metadata": {},
   "source": [
    "It's evident there's no improvement in performance for different k neighbor values. To this effect, I will use k = 1."
   ]
  },
  {
   "cell_type": "code",
   "execution_count": 36,
   "metadata": {},
   "outputs": [],
   "source": [
    "model = xgb.XGBClassifier(seed = 42, gamma=0.0, learning_rate=0.3, max_delta_step=1, max_depth=3,\n",
    "              min_child_weight=1, scale_pos_weight=weight, tree_method='hist')\n",
    "over = SMOTE(sampling_strategy=0.1, k_neighbors=1)\n",
    "under = RandomUnderSampler(sampling_strategy=0.5)\n",
    "pipeline = Pipeline(steps=steps)"
   ]
  },
  {
   "cell_type": "code",
   "execution_count": 37,
   "metadata": {},
   "outputs": [
    {
     "name": "stderr",
     "output_type": "stream",
     "text": [
      "/opt/anaconda3/lib/python3.7/site-packages/sklearn/utils/validation.py:73: DataConversionWarning: A column-vector y was passed when a 1d array was expected. Please change the shape of y to (n_samples, ), for example using ravel().\n",
      "  return f(**kwargs)\n"
     ]
    }
   ],
   "source": [
    "smote_knn = pipeline.fit(df_train, df_train_labels)\n",
    "smote_knn_pred = smote_random.predict(df_test)"
   ]
  },
  {
   "cell_type": "code",
   "execution_count": 39,
   "metadata": {},
   "outputs": [
    {
     "name": "stdout",
     "output_type": "stream",
     "text": [
      "              precision    recall  f1-score   support\n",
      "\n",
      "           0       1.00      0.96      0.98   1270881\n",
      "           1       0.03      0.89      0.05      1643\n",
      "\n",
      "    accuracy                           0.96   1272524\n",
      "   macro avg       0.51      0.92      0.51   1272524\n",
      "weighted avg       1.00      0.96      0.98   1272524\n",
      "\n"
     ]
    }
   ],
   "source": [
    "print(classification_report(df_test_labels, smote_knn_pred))"
   ]
  },
  {
   "cell_type": "code",
   "execution_count": 40,
   "metadata": {},
   "outputs": [
    {
     "name": "stdout",
     "output_type": "stream",
     "text": [
      "[[1189299   81582]\n",
      " [     92    1551]]\n"
     ]
    },
    {
     "data": {
      "image/png": "[encoded data removed]",
      "text/plain": [
       "<Figure size 432x288 with 2 Axes>"
      ]
     },
     "metadata": {
      "needs_background": "light"
     },
     "output_type": "display_data"
    }
   ],
   "source": [
    "disp3 = plot_confusion_matrix(smote_knn, df_test, df_test_labels,\n",
    "                                 display_labels=['non-fraudulent', 'fraudulent'],\n",
    "                                 cmap=plt.cm.Blues,\n",
    "                                 )\n",
    "print(disp3.confusion_matrix)\n",
    "\n",
    "plt.show()"
   ]
  },
  {
   "cell_type": "code",
   "execution_count": 41,
   "metadata": {},
   "outputs": [],
   "source": [
    "#_____________ Save the Model\n",
    "joblib.dump(smote_knn, 'smote_knn.pkl')"
   ]
  },
  {
   "cell_type": "markdown",
   "metadata": {},
   "source": [
    "#### Performance of this model\n",
    "\n",
    "On one hand, this model correctly classifies more fraudulent transactions (1551) than the other 2 models. On the other hand, it has the highest false positives (81582)."
   ]
  },
  {
   "cell_type": "markdown",
   "metadata": {},
   "source": [
    "# 3. SUMMARY\n",
    "A model is a simplified version of the observations. The simplifications are meant to discard the superfluous details that are unlikely to generalize the new instances. \n",
    "\n",
    "In a famous 1996 paper, David Wolpert demonstrated that if you make absolutely no assumption about the data, then there is no reason to prefer one model over any other. We have to decide if we want to trade-off high false positives or false negatives for correct classification and vice-versa.\n",
    "\n",
    "There is no model that is **a priori** guaranteed to work better. The only way to know for sure which model is to evaluate them all. Since this is not always feasible, in practive you make reasonable assumptions about the data and evaluate few reasonable models.\n",
    "\n",
    "In this study, i compared 3 models and they all have their strengths and weakness which is described below:\n",
    "\n",
    "1. **Tuned XGBoost :** Lower False positive, High False negative\n",
    "2. **SMOTE undersampling + XGBOOST:** Low False positive, High False Negative\n",
    "3. **SMOTE oversampling + kNN:** High False Positive, Low False negative\n",
    "\n",
    "\n",
    "- If you are concerned majorly about classifying fraudulent transactions, you should pick the 3rd model - SMOTE oversampling with 1 nearest neighbour + XGBOOST\n",
    "- If you are concerned about about classifying fraudulent transactions and reducing false positives, you should pick the 2nd model - SMOTE undersampling + XGBOOST\n",
    "- If you want a conservative model that classifies fraudulent transactions with low false positives with occassional false negatives, pick the 1st model.\n",
    "\n",
    "**THERE IS NO ONE-SIZE FITS ALL**\n",
    "\n",
    "#### Areas of Improvement\n",
    "1. Other methods for handling imblanced datasets like Anomaly detection using Gaussian Mixtures, Bayesian Gaussian Mixture Models, etc are not considered in this study.\n",
    "\n",
    "2. I did not perform enough hyperparameter tuning because of the large training time and computing memory, however i included the codes to it in the #1 Extreme Gradient Boosting section above."
   ]
  },
  {
   "cell_type": "code",
   "execution_count": null,
   "metadata": {},
   "outputs": [],
   "source": []
  }
 ],
 "metadata": {
  "kernelspec": {
   "display_name": "Python 3",
   "language": "python",
   "name": "python3"
  },
  "language_info": {
   "codemirror_mode": {
    "name": "ipython",
    "version": 3
   },
   "file_extension": ".py",
   "mimetype": "text/x-python",
   "name": "python",
   "nbconvert_exporter": "python",
   "pygments_lexer": "ipython3",
   "version": "3.7.6"
  }
 },
 "nbformat": 4,
 "nbformat_minor": 4
}
